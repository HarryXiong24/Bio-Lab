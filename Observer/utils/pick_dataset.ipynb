{
 "cells": [
  {
   "cell_type": "code",
   "execution_count": 50,
   "metadata": {},
   "outputs": [
    {
     "name": "stderr",
     "output_type": "stream",
     "text": [
      "\u001b[32m\u001b[1m  Activating\u001b[22m\u001b[39m project at `~/Desktop/Project BAC/BAC project/libs`\n"
     ]
    },
    {
     "data": {
      "text/plain": [
       "\"/media/molloi-lab/2TB2/BAC ver3/subset2\""
      ]
     },
     "metadata": {},
     "output_type": "display_data"
    }
   ],
   "source": [
    "using Pkg\n",
    "Pkg.activate(\"/home/molloi-lab/Desktop/Project BAC/BAC project/libs/\")\n",
    "using Lux, Random, NNlib, Zygote, LuxCUDA, CUDA, FluxMPI, JLD2, DICOM\n",
    "using Images\n",
    "using Gtk\n",
    "using Images\n",
    "using MLUtils\n",
    "using Optimisers\n",
    "using ImageMorphology, ChainRulesCore, Statistics, CSV, DataFrames, Dates, imageToolBox\n",
    "using XLSX, ImageView\n",
    "full_data_dir  = \"/media/molloi-lab/2TB/BAC/Clean_Dataset_full\"\n",
    "output_data_dir = \"/media/molloi-lab/2TB2/BAC ver3/subset2\""
   ]
  },
  {
   "cell_type": "code",
   "execution_count": 51,
   "metadata": {},
   "outputs": [
    {
     "data": {
      "text/plain": [
       "10-element Vector{String}:\n",
       " \"SID-127715\"\n",
       " \"SID-101820\"\n",
       " \"SID-122978\"\n",
       " \"SID-104591\"\n",
       " \"SID-133215\"\n",
       " \"SID-103033\"\n",
       " \"SID-137954\"\n",
       " \"SID-125865\"\n",
       " \"SID-105834\"\n",
       " \"SID-115060\""
      ]
     },
     "metadata": {},
     "output_type": "display_data"
    }
   ],
   "source": [
    "black_list = [\"127715\", \"101820\", \"122978\", \"104591\", \"133215\", \"103033\",\"137954\", \"125865\", \"105834\", \"115060\"];\n",
    "for (i, b) in enumerate(black_list)\n",
    "    black_list[i] = \"SID-\" * b\n",
    "end\n",
    "black_list"
   ]
  },
  {
   "cell_type": "markdown",
   "metadata": {},
   "source": [
    "# Read data"
   ]
  },
  {
   "cell_type": "code",
   "execution_count": 52,
   "metadata": {},
   "outputs": [],
   "source": [
    "SIDs = readdir(full_data_dir);"
   ]
  },
  {
   "cell_type": "code",
   "execution_count": 53,
   "metadata": {},
   "outputs": [
    {
     "data": {
      "text/plain": [
       "5150"
      ]
     },
     "metadata": {},
     "output_type": "display_data"
    }
   ],
   "source": [
    "xf = XLSX.readxlsx(\"files/Ca mass calculation Final.xlsx\")\n",
    "SIDs_xf = xf[\"Final!C:C\"][2:end]\n",
    "L_CC_mass_xf = xf[\"Final!O:O\"][2:end]\n",
    "L_MLO_mass_xf = xf[\"Final!S:S\"][2:end]\n",
    "R_CC_mass_xf = xf[\"Final!F:F\"][2:end]\n",
    "R_MLO_mass_xf = xf[\"Final!J:J\"][2:end]\n",
    "xf = nothing\n",
    "\n",
    "sorted_indices = sortperm(SIDs_xf)\n",
    "SIDs_xf = SIDs_xf[sorted_indices]\n",
    "L_CC_mass_xf = L_CC_mass_xf[sorted_indices]\n",
    "L_MLO_mass_xf = L_MLO_mass_xf[sorted_indices]\n",
    "R_CC_mass_xf = R_CC_mass_xf[sorted_indices]\n",
    "R_MLO_mass_xf = R_MLO_mass_xf[sorted_indices]\n",
    "\n",
    "s_SIDs_xf = size(SIDs_xf)[1]"
   ]
  },
  {
   "cell_type": "code",
   "execution_count": 54,
   "metadata": {},
   "outputs": [],
   "source": [
    "SID_Mass_Dict = Dict()\n",
    "for i = 1 : size(SIDs_xf)[1]\n",
    "    SID = SIDs_xf[i]\n",
    "    mass = (L_CC_mass_xf[i] + L_MLO_mass_xf[i] + R_CC_mass_xf[i] + R_MLO_mass_xf[i])/2f0\n",
    "    SID_Mass_Dict[SID] = mass\n",
    "end"
   ]
  },
  {
   "cell_type": "code",
   "execution_count": 55,
   "metadata": {},
   "outputs": [],
   "source": [
    "buckets_ = [[],[],[],[],[],[]]\n",
    "buckets = [[],[],[],[],[],[]]\n",
    "for SID in SIDs\n",
    "    if !(SID in black_list)\n",
    "        mass = SID_Mass_Dict[SID]\n",
    "        idx = min(6, round(Int, ceil(mass/20)+1))\n",
    "        push!(buckets_[idx], SID)\n",
    "    end\n",
    "end"
   ]
  },
  {
   "cell_type": "code",
   "execution_count": 56,
   "metadata": {},
   "outputs": [
    {
     "name": "stdout",
     "output_type": "stream",
     "text": [
      "1: 3788\n",
      "2: 1108\n",
      "3: 115\n",
      "4: 40\n",
      "5: 31\n",
      "6: 18\n",
      "Total = 5100\n"
     ]
    }
   ],
   "source": [
    "ct = 0 \n",
    "for i = 1 : 6\n",
    "    curr = size(buckets_[i])[1]\n",
    "    ct += curr\n",
    "    println(\"$i: $curr\")\n",
    "end\n",
    "println(\"Total = $ct\")"
   ]
  },
  {
   "cell_type": "code",
   "execution_count": 57,
   "metadata": {},
   "outputs": [
    {
     "name": "stdout",
     "output_type": "stream",
     "text": [
      "1: 3788\n",
      "2: 1108\n",
      "3: 115\n",
      "4: 40\n",
      "5: 31\n",
      "6: 18\n",
      "Total = 5100\n"
     ]
    }
   ],
   "source": [
    "ct = 0 \n",
    "for i = 1 : 6\n",
    "    curr = size(buckets_[i])[1]\n",
    "    ct += curr\n",
    "    println(\"$i: $curr\")\n",
    "end\n",
    "println(\"Total = $ct\")"
   ]
  },
  {
   "cell_type": "markdown",
   "metadata": {},
   "source": [
    "# Pick test set"
   ]
  },
  {
   "cell_type": "code",
   "execution_count": 58,
   "metadata": {},
   "outputs": [
    {
     "data": {
      "text/plain": [
       "generate_random_numbers (generic function with 1 method)"
      ]
     },
     "metadata": {},
     "output_type": "display_data"
    }
   ],
   "source": [
    "function generate_random_numbers(n, a, b)\n",
    "    # Check if n is greater than the range size\n",
    "    if n > (b - a + 1)\n",
    "        throw(ArgumentError(\"Number of samples (n) cannot exceed the range size (b - a + 1)\"))\n",
    "    end\n",
    "    \n",
    "    # Generate unique random numbers\n",
    "    random_numbers = Set{Float64}()\n",
    "    while length(random_numbers) < n\n",
    "        push!(random_numbers, rand(a:b))\n",
    "    end\n",
    "    \n",
    "    return round.(Int, collect(random_numbers))\n",
    "end"
   ]
  },
  {
   "cell_type": "code",
   "execution_count": 59,
   "metadata": {},
   "outputs": [],
   "source": [
    "target = 8;"
   ]
  },
  {
   "cell_type": "code",
   "execution_count": 60,
   "metadata": {},
   "outputs": [
    {
     "name": "stdout",
     "output_type": "stream",
     "text": [
      "1: 40\n",
      "2: 8\n",
      "3: 8\n",
      "4: 8\n",
      "5: 8\n",
      "6: 8\n",
      "Total = 80\n"
     ]
    }
   ],
   "source": [
    "num_each_bucket = target\n",
    "test_buckets = [[],[],[],[],[],[]]\n",
    "for i = 1 : 6\n",
    "    test_buckets[i] = buckets_[i][generate_random_numbers(num_each_bucket * (i == 1 ? 5 : 1), 1, size(buckets_[i])[1])]\n",
    "    buckets[i] = filter(x -> !(x in test_buckets[i]), buckets_[i])\n",
    "end\n",
    "ct = 0 \n",
    "for i = 1 : 6\n",
    "    curr = size(test_buckets[i])[1]\n",
    "    ct += curr\n",
    "    println(\"$i: $curr\")\n",
    "end\n",
    "println(\"Total = $ct\")"
   ]
  },
  {
   "cell_type": "code",
   "execution_count": 61,
   "metadata": {},
   "outputs": [
    {
     "name": "stdout",
     "output_type": "stream",
     "text": [
      "1: 3748\n",
      "2: 1100\n",
      "3: 107\n",
      "4: 32\n",
      "5: 23\n",
      "6: 10\n",
      "Total = 5020\n"
     ]
    }
   ],
   "source": [
    "ct = 0 \n",
    "for i = 1 : 6\n",
    "    curr = size(buckets[i])[1]\n",
    "    ct += curr\n",
    "    println(\"$i: $curr\")\n",
    "end\n",
    "println(\"Total = $ct\")"
   ]
  },
  {
   "cell_type": "markdown",
   "metadata": {},
   "source": [
    "# Pick Train set"
   ]
  },
  {
   "cell_type": "code",
   "execution_count": 62,
   "metadata": {},
   "outputs": [
    {
     "name": "stdout",
     "output_type": "stream",
     "text": [
      "1: 160\n",
      "2: 32\n",
      "3: 32\n",
      "4: 32\n",
      "5: 32\n",
      "6: 32\n",
      "Total = 320\n"
     ]
    }
   ],
   "source": [
    "num_each_bucket = target * 4\n",
    "train_buckets = [[],[],[],[],[],[]]\n",
    "for i = 1 : 6\n",
    "    curr_size = size(buckets[i])[1]\n",
    "    curr_target = num_each_bucket * (i == 1 ? 5 : 1)\n",
    "\n",
    "    dup_times = floor(curr_target / curr_size)\n",
    "    for j = 1 : dup_times\n",
    "        append!(train_buckets[i], buckets[i])\n",
    "    end\n",
    "\n",
    "    residue = curr_target % curr_size    \n",
    "    if residue > 0\n",
    "        append!(train_buckets[i], buckets[i][generate_random_numbers(residue, 1, curr_size)])\n",
    "    end\n",
    "end\n",
    "\n",
    "ct = 0 \n",
    "for i = 1 : 6\n",
    "    curr = size(train_buckets[i])[1]\n",
    "    ct += curr\n",
    "    println(\"$i: $curr\")\n",
    "end\n",
    "println(\"Total = $ct\")"
   ]
  },
  {
   "cell_type": "markdown",
   "metadata": {},
   "source": [
    "# Save"
   ]
  },
  {
   "cell_type": "code",
   "execution_count": 63,
   "metadata": {},
   "outputs": [],
   "source": [
    "@save \"JLD2s/train_buckets.jld2\" train_buckets\n",
    "@save \"JLD2s/test_buckets.jld2\" test_buckets"
   ]
  },
  {
   "cell_type": "markdown",
   "metadata": {},
   "source": [
    "# Load"
   ]
  },
  {
   "cell_type": "code",
   "execution_count": 64,
   "metadata": {},
   "outputs": [],
   "source": [
    "# @load \"JLD2s/train_buckets.jld2\" train_buckets\n",
    "# @load \"JLD2s/test_buckets.jld2\" test_buckets"
   ]
  },
  {
   "cell_type": "markdown",
   "metadata": {},
   "source": [
    "# Copy and paste"
   ]
  },
  {
   "cell_type": "code",
   "execution_count": 65,
   "metadata": {},
   "outputs": [
    {
     "name": "stdout",
     "output_type": "stream",
     "text": [
      "1: 160\n",
      "2: 32\n",
      "3: 32\n",
      "4: 32\n",
      "5: 23\n",
      "6: 10\n",
      "Train Total = 289\n",
      "\n",
      "1: 40\n",
      "2: 8\n",
      "3: 8\n",
      "4: 8\n",
      "5: 8\n",
      "6: 8\n",
      "Test Total = 80\n"
     ]
    }
   ],
   "source": [
    "ct = 0 \n",
    "for i = 1 : 6\n",
    "    curr = size(unique(train_buckets[i]))[1]\n",
    "    ct += curr\n",
    "    println(\"$i: $curr\")\n",
    "end\n",
    "println(\"Train Total = $ct\\n\")\n",
    "\n",
    "ct = 0 \n",
    "for i = 1 : 6\n",
    "    curr = size(unique(test_buckets[i]))[1]\n",
    "    ct += curr\n",
    "    println(\"$i: $curr\")\n",
    "end\n",
    "println(\"Test Total = $ct\")"
   ]
  },
  {
   "cell_type": "code",
   "execution_count": 66,
   "metadata": {},
   "outputs": [
    {
     "data": {
      "text/plain": [
       "delete_files_and_folders (generic function with 1 method)"
      ]
     },
     "metadata": {},
     "output_type": "display_data"
    }
   ],
   "source": [
    "function delete_files_and_folders(root_dir)\n",
    "    # Get a list of all files and folders under the root directory\n",
    "    entries = readdir(root_dir)\n",
    "    \n",
    "    for entry in entries\n",
    "        entry_path = joinpath(root_dir, entry)\n",
    "        if isfile(entry_path)\n",
    "            # If the entry is a file, delete it\n",
    "            rm(entry_path)\n",
    "            # println(\"Deleted file: $entry_path\")\n",
    "        elseif isdir(entry_path)\n",
    "            # If the entry is a directory, recursively delete its contents\n",
    "            delete_files_and_folders(entry_path)\n",
    "            # After deleting all contents, delete the directory itself\n",
    "            rm(entry_path)\n",
    "            # println(\"Deleted directory: $entry_path\")\n",
    "        end\n",
    "    end\n",
    "end"
   ]
  },
  {
   "cell_type": "code",
   "execution_count": 67,
   "metadata": {},
   "outputs": [
    {
     "data": {
      "text/plain": [
       "copy_paste (generic function with 1 method)"
      ]
     },
     "metadata": {},
     "output_type": "display_data"
    }
   ],
   "source": [
    "function copy_paste(name, curr_bucket)\n",
    "    output_dir = joinpath(output_data_dir, name)\n",
    "    isdir(output_dir) || mkdir(output_dir)\n",
    "    isdir(output_dir) && delete_files_and_folders(output_dir)\n",
    "\n",
    "    for i = 1 : 6\n",
    "        for SID in curr_bucket[i]\n",
    "            to_dir = joinpath(output_dir, SID)\n",
    "            if !isdir(to_dir)\n",
    "                mkdir(to_dir)\n",
    "                from_dir = joinpath(full_data_dir, SID)\n",
    "                @assert isdir(from_dir)\n",
    "\n",
    "                for f in readdir(from_dir)\n",
    "                    from_path = joinpath(from_dir, f)\n",
    "                    to_path = joinpath(to_dir, f)\n",
    "                    cp(from_path, to_path)\n",
    "                end\n",
    "            end\n",
    "        end\n",
    "    end\n",
    "end"
   ]
  },
  {
   "cell_type": "code",
   "execution_count": 68,
   "metadata": {},
   "outputs": [],
   "source": [
    "copy_paste(\"train\", train_buckets);"
   ]
  },
  {
   "cell_type": "code",
   "execution_count": 69,
   "metadata": {},
   "outputs": [],
   "source": [
    "copy_paste(\"test\", test_buckets);"
   ]
  },
  {
   "cell_type": "markdown",
   "metadata": {},
   "source": [
    "# Check images"
   ]
  },
  {
   "cell_type": "code",
   "execution_count": 70,
   "metadata": {},
   "outputs": [
    {
     "data": {
      "text/plain": [
       "check_images (generic function with 1 method)"
      ]
     },
     "metadata": {},
     "output_type": "display_data"
    }
   ],
   "source": [
    "function check_images(name, curr_bucket; target_size = (1920, 1080))\n",
    "    temp = joinpath(output_data_dir, \"check\", name)\n",
    "    isdir(temp) || mkdir(temp)\n",
    "    delete_files_and_folders(temp)\n",
    "    for i = 1 : 6\n",
    "        @Threads.threads for j = 1 : size(curr_bucket[i])[1]\n",
    "            SID = curr_bucket[i][j]\n",
    "            curr_dir = joinpath(output_data_dir, name, SID)\n",
    "            images_ = []\n",
    "            images__ = []\n",
    "            for f in readdir(curr_dir)\n",
    "                f_name, f_ext = splitext(f)\n",
    "                if f_ext == \".dcm\"\n",
    "                    push!(images_, Float32.(Images.load(joinpath(curr_dir, f_name*\".png\"))))\n",
    "                    push!(images__, Float32.(Images.load(joinpath(curr_dir, f_name*\".mask.png\"))))\n",
    "                end\n",
    "            end\n",
    "\n",
    "            to_show_ = imresize(images_[1], target_size)\n",
    "            for k = 2 : size(images_)[1]\n",
    "                to_show_ = hcat(to_show_, ones(target_size[1], 1))\n",
    "                to_show_ = hcat(to_show_, imresize(images_[k], target_size))\n",
    "            end\n",
    "\n",
    "            to_show__ = imresize(images__[1], target_size)\n",
    "            for k = 2 : size(images__)[1]\n",
    "                to_show__ = hcat(to_show__, ones(target_size[1], 1))\n",
    "                to_show__ = hcat(to_show__, imresize(images__[k], target_size))\n",
    "            end\n",
    "\n",
    "            Images.save(joinpath(output_data_dir, \"check\", name, SID*\".png\"), Gray.(vcat(to_show_, ones(1, size(to_show_)[2]), to_show__)))\n",
    "        end\n",
    "    end\n",
    "end"
   ]
  },
  {
   "cell_type": "code",
   "execution_count": 71,
   "metadata": {},
   "outputs": [],
   "source": [
    "check_images(\"train\", train_buckets)"
   ]
  },
  {
   "cell_type": "code",
   "execution_count": 72,
   "metadata": {},
   "outputs": [],
   "source": [
    "check_images(\"test\", test_buckets)"
   ]
  },
  {
   "cell_type": "markdown",
   "metadata": {},
   "source": [
    "# Make cropped images"
   ]
  },
  {
   "cell_type": "code",
   "execution_count": 76,
   "metadata": {},
   "outputs": [
    {
     "data": {
      "text/plain": [
       "prepare_image (generic function with 1 method)"
      ]
     },
     "metadata": {},
     "output_type": "display_data"
    }
   ],
   "source": [
    "function delete_files_and_folders(root_dir)\n",
    "    # Get a list of all files and folders under the root directory\n",
    "    entries = readdir(root_dir)\n",
    "    \n",
    "    for entry in entries\n",
    "        entry_path = joinpath(root_dir, entry)\n",
    "        if isfile(entry_path)\n",
    "            # If the entry is a file, delete it\n",
    "            rm(entry_path)\n",
    "            # println(\"Deleted file: $entry_path\")\n",
    "        elseif isdir(entry_path)\n",
    "            # If the entry is a directory, recursively delete its contents\n",
    "            delete_files_and_folders(entry_path)\n",
    "            # After deleting all contents, delete the directory itself\n",
    "            rm(entry_path)\n",
    "            # println(\"Deleted directory: $entry_path\")\n",
    "        end\n",
    "    end\n",
    "end\n",
    "\n",
    "function crop_to_bounding_box(mask, image, ground_truth_mask)\n",
    "    # Find rows and columns where the mask has value 1\n",
    "    indices = findall(x -> x == 1, mask)\n",
    "    if isempty(indices)\n",
    "        return \"Error in breast mask!\" # Return the original mask if no 1s are found\n",
    "    end\n",
    "\n",
    "    # Extract row and column indices from the CartesianIndex array\n",
    "    rows = [index[1] for index in indices]\n",
    "    cols = [index[2] for index in indices]\n",
    "\n",
    "    # Determine the initial bounding box\n",
    "    min_row, max_row = minimum(rows), maximum(rows)\n",
    "    min_col, max_col = minimum(cols), maximum(cols)\n",
    "\n",
    "    # Adjust dimensions to be divisible by 32\n",
    "    width, height = max_col - min_col + 1, max_row - min_row + 1\n",
    "    if width % 32 != 0\n",
    "        width_adjustment = 32 - (width % 32)\n",
    "        max_col += width_adjustment\n",
    "        # Move the bounding box if it exceeds mask dimensions\n",
    "        if max_col > size(mask, 2)\n",
    "            min_col = max(1, min_col - (max_col - size(mask, 2)))\n",
    "            max_col = size(mask, 2)\n",
    "        end\n",
    "    end\n",
    "    if height % 32 != 0\n",
    "        height_adjustment = 32 - (height % 32)\n",
    "        max_row += height_adjustment\n",
    "        # Move the bounding box if it exceeds mask dimensions\n",
    "        if max_row > size(mask, 1)\n",
    "            min_row = max(1, min_row - (max_row - size(mask, 1)))\n",
    "            max_row = size(mask, 1)\n",
    "        end\n",
    "    end\n",
    "    rslt = image[min_row:max_row, min_col:max_col]\n",
    "    rslt2 = ground_truth_mask[min_row:max_row, min_col:max_col]\n",
    "    rslt3 = [min_row, max_row, min_col, max_col]\n",
    "\n",
    "    x, y = size(rslt)\n",
    "    res = x % 32\n",
    "    if res != 0\n",
    "        top_trim = round(Int, res / 2)\n",
    "        bot_trim = res - top_trim\n",
    "        rslt = rslt[top_trim+1 : end - bot_trim, 1: end]\n",
    "        rslt2 = rslt2[top_trim+1 : end - bot_trim, 1: end]\n",
    "        rslt3[1] += top_trim\n",
    "        rslt3[2] -= bot_trim\n",
    "    end\n",
    "\n",
    "    res = y % 32\n",
    "    if res != 0\n",
    "        left_trim = round(Int, res / 2)\n",
    "        right_trim = res - left_trim\n",
    "        rslt = rslt[1: end, left_trim+1 : end - right_trim]\n",
    "        rslt2 = rslt2[1: end, left_trim+1 : end - right_trim]\n",
    "        rslt3[3] += left_trim\n",
    "        rslt3[4] -= right_trim\n",
    "    end\n",
    "\n",
    "    return rslt, rslt2, rslt3\n",
    "end\n",
    "\n",
    "function resize_dicom_image(image, mask, ground_truth_mask, original_spacing; target_spacing = [0.13, 0.13])\n",
    "    # Calculate the scaling factors\n",
    "    scale_x = original_spacing[1] / target_spacing[1]\n",
    "    scale_y = original_spacing[2] / target_spacing[2]\n",
    "\n",
    "    new_size_x = round(Int, size(image, 1) * scale_y)\n",
    "    new_size_y = round(Int, size(image, 2) * scale_x)\n",
    "    # Resample the image\n",
    "    resized_img = imresize(image, (new_size_x, new_size_y))\n",
    "    resized_mask = imresize(mask, (new_size_x, new_size_y))\n",
    "    resized_ground_truth_mask = imresize(ground_truth_mask, (new_size_x, new_size_y))\n",
    "    return resized_img, resized_mask, resized_ground_truth_mask, [new_size_x, new_size_y]\n",
    "end\n",
    "\n",
    "function prepare_image(name, curr_bucket)\n",
    "    output_dir = joinpath(output_data_dir, name)\n",
    "\n",
    "    for i = 1 : 6\n",
    "        curr_SIDs = unique(curr_bucket[i])\n",
    "        @Threads.threads for j = 1 : size(curr_SIDs)[1]\n",
    "            SID = curr_SIDs[j]\n",
    "            curr_dir = joinpath(output_dir, SID)\n",
    "            out_dir = joinpath(curr_dir, \"cropped\")\n",
    "            isdir(out_dir) || mkdir(out_dir)\n",
    "            delete_files_and_folders(out_dir)\n",
    "\n",
    "            for f in readdir(curr_dir)\n",
    "                f_name, f_ext = splitext(f)\n",
    "                if f_ext == \".dcm\"\n",
    "                    dcm_path = joinpath(curr_dir, f)\n",
    "                    breast_mask_path = joinpath(curr_dir, f_name*\".mask.png\")\n",
    "                    ground_truth_mask_path = joinpath(curr_dir, f_name*\".png\")\n",
    "\n",
    "                    ground_truth_mask = Float32.(Images.load(ground_truth_mask_path))\n",
    "                    breast_mask = Float32.(Images.load(breast_mask_path))\n",
    "                    dcm_data = dcm_parse(dcm_path)\n",
    "                    pixel_size = dcm_data[(0x0018, 0x1164)]\n",
    "                    img = Float32.(dcm_data[(0x7fe0, 0x0010)])\n",
    "                    original_size = size(img)\n",
    "                    # resize image based on pixel length\n",
    "                    img, breast_mask, ground_truth_mask, new_size = resize_dicom_image(img, breast_mask, ground_truth_mask, pixel_size)\n",
    "                    # normalize image and correct color\n",
    "                    img = normalize_img(img; mask = breast_mask, invert = true)\n",
    "                    # crop to breast only\n",
    "                    img_cropped, ground_truth_mask_cropped, coords = crop_to_bounding_box(breast_mask, img, ground_truth_mask)\n",
    "                    # I CAN THROW THE 'img_cropped' thing into the finished BAC model.\n",
    "                    # save resize info to local\n",
    "                    @save joinpath(curr_dir, f_name*\"_resize_info.jld2\") original_size new_size coords\n",
    "                    # check size\n",
    "                    x, y = size(img_cropped)\n",
    "                    # if y % 32 != 0\n",
    "                    #     x_org, y_org = size(img)\n",
    "                    #     println(i, \"\\t\", ct+1)\n",
    "                    #     println(\"($x_org, $y_org)\")\n",
    "                    #     println(\"($x, $y)\\n\")\n",
    "                    # end\n",
    "                    @assert x % 32 == 0\n",
    "                    @assert y % 32 == 0\n",
    "                    \n",
    "                    #save\n",
    "                    @save joinpath(out_dir, f_name*\".jld2\") img_cropped\n",
    "                    Images.save(joinpath(out_dir, f_name*\".png\"), Gray.(round.(ground_truth_mask_cropped)))\n",
    "                end\n",
    "            end\n",
    "        end\n",
    "    end\n",
    "    GC.gc(true)\n",
    "end"
   ]
  },
  {
   "cell_type": "code",
   "execution_count": 77,
   "metadata": {},
   "outputs": [],
   "source": [
    "prepare_image(\"train\", train_buckets);"
   ]
  },
  {
   "cell_type": "code",
   "execution_count": 79,
   "metadata": {},
   "outputs": [],
   "source": [
    "prepare_image(\"test\", test_buckets);"
   ]
  }
 ],
 "metadata": {
  "kernelspec": {
   "display_name": "Julia 1.9.2",
   "language": "julia",
   "name": "julia-1.9"
  },
  "language_info": {
   "file_extension": ".jl",
   "mimetype": "application/julia",
   "name": "julia",
   "version": "1.9.2"
  },
  "orig_nbformat": 4
 },
 "nbformat": 4,
 "nbformat_minor": 2
}
