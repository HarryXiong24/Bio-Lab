{
 "cells": [
  {
   "cell_type": "code",
   "execution_count": 1,
   "metadata": {},
   "outputs": [],
   "source": [
    "import Pkg;"
   ]
  },
  {
   "cell_type": "code",
   "execution_count": 2,
   "metadata": {},
   "outputs": [],
   "source": [
    "using Random\n",
    "using Images"
   ]
  },
  {
   "cell_type": "code",
   "execution_count": 3,
   "metadata": {},
   "outputs": [
    {
     "data": {
      "text/plain": [
       "\"output\""
      ]
     },
     "metadata": {},
     "output_type": "display_data"
    }
   ],
   "source": [
    "main_directory = \"output\""
   ]
  },
  {
   "cell_type": "code",
   "execution_count": 28,
   "metadata": {},
   "outputs": [
    {
     "data": {
      "text/plain": [
       "comparable_paths (generic function with 1 method)"
      ]
     },
     "metadata": {},
     "output_type": "display_data"
    }
   ],
   "source": [
    "function extract_base_name(filename::String)::String\n",
    "  pattern = r\"(.+?)(?:_predict_denoised)?\\.png$\"\n",
    "  match_result = match(pattern, filename)\n",
    "  if match_result !== nothing\n",
    "      return match_result.captures[1]\n",
    "  else\n",
    "      return \"Invalid filename format.\"\n",
    "  end\n",
    "end\n",
    "\n",
    "function obtain_png_name(base_name::String, pred_denoise::Bool=false)::String\n",
    "  if pred_denoise\n",
    "      return base_name * \"_predict_denoised.png\"\n",
    "  else\n",
    "      return base_name * \".png\"\n",
    "  end\n",
    "end\n",
    "\n",
    "function dice_loss(y_true::Array{Float32,2}, y_pred::Array{Float32,2})::Float32\n",
    "  if size(y_true) != size(y_pred)\n",
    "      error(\"Input images must have the same dimensions\")\n",
    "  end\n",
    "  y_true_flat = vec(y_true)\n",
    "  y_pred_flat = vec(y_pred)\n",
    "  intersection = sum(y_true_flat .* y_pred_flat)\n",
    "  true_sum = sum(y_true_flat)\n",
    "  pred_sum = sum(y_pred_flat)\n",
    "  dice_coefficient = 2 * intersection / (true_sum + pred_sum)\n",
    "  return 1.0 - dice_coefficient\n",
    "end\n",
    "\n",
    "function image_dice_loss(path1::String, path2::String)\n",
    "  image1 = load(path1)\n",
    "  image2 = load(path2)\n",
    "  image1_binary = Float32.(Gray.(image1) .> 0.5)\n",
    "  image2_binary = Float32.(Gray.(image2) .> 0.5)\n",
    "  loss = dice_loss(image1_binary, image2_binary)\n",
    "  return loss\n",
    "end\n",
    "\n",
    "\"\"\"Returns tuples of (output/.../fati/1234.png, output/.../sohrab/1234.png, output/.../predict/1234_predict_denoised.png).\"\"\"\n",
    "function get_path_tuples(subdirectory::String)\n",
    "  fati_dir = joinpath(subdirectory, \"fati\")\n",
    "  sohrab_dir = joinpath(subdirectory, \"sohrab\")\n",
    "  predict_dir = joinpath(subdirectory, \"predict\")\n",
    "\n",
    "  fati_list, sohrab_list, predict_list = [], [], []\n",
    "\n",
    "  for file in readdir(fati_dir, join=true)\n",
    "    if occursin(r\"\\.png$\", file)\n",
    "      push!(fati_list, basename(file))\n",
    "    end\n",
    "  end\n",
    "\n",
    "  for file in readdir(sohrab_dir, join=true)\n",
    "    if occursin(r\"\\.png$\", file)\n",
    "      push!(sohrab_list, basename(file))\n",
    "    end\n",
    "  end\n",
    "\n",
    "  for file in readdir(predict_dir, join=true)\n",
    "    if occursin(r\"\\.png$\", file)\n",
    "      push!(predict_list, basename(file))\n",
    "    end\n",
    "  end\n",
    "\n",
    "  overlap_names = intersect(extract_base_name.(fati_list), extract_base_name.(sohrab_list), extract_base_name.(predict_list))\n",
    "  all_path_tuples = []\n",
    "\n",
    "  for name in overlap_names\n",
    "    fati_path = joinpath(fati_dir, obtain_png_name(name))\n",
    "    sohrab_path = joinpath(sohrab_dir, obtain_png_name(name))\n",
    "    predict_path = joinpath(predict_dir, obtain_png_name(name, true))\n",
    "\n",
    "    path_tuple = [fati_path, sohrab_path, predict_path]\n",
    "    push!(all_path_tuples, path_tuple)\n",
    "  end\n",
    "  return all_path_tuples\n",
    "end"
   ]
  },
  {
   "cell_type": "code",
   "execution_count": 33,
   "metadata": {},
   "outputs": [
    {
     "name": "stdout",
     "output_type": "stream",
     "text": [
      "0.16841489\n",
      "0.46768725\n",
      "0.40190053\n",
      "0.18760884\n",
      "0.43839622\n",
      "0.49056995\n",
      "0.16307414\n",
      "0.3230551\n",
      "0.38510793\n",
      "0.12711692\n",
      "0.46670526\n",
      "0.43651295\n"
     ]
    }
   ],
   "source": [
    "for subdirectory in readdir(main_directory, join=true)\n",
    "  if isdir(subdirectory) && occursin(r\"^SID\", basename(subdirectory))\n",
    "    all_path_tuples = get_path_tuples(subdirectory)\n",
    "    for (fati_path, sohrab_path, predict_path) in all_path_tuples\n",
    "      loss1, loss2, loss3 = image_dice_loss(fati_path, sohrab_path), image_dice_loss(fati_path, predict_path), image_dice_loss(sohrab_path, predict_path)\n",
    "    end\n",
    "  end\n",
    "end"
   ]
  }
 ],
 "metadata": {
  "kernelspec": {
   "display_name": "Julia 1.9.3",
   "language": "julia",
   "name": "julia-1.9"
  },
  "language_info": {
   "file_extension": ".jl",
   "mimetype": "application/julia",
   "name": "julia",
   "version": "1.9.3"
  }
 },
 "nbformat": 4,
 "nbformat_minor": 2
}
