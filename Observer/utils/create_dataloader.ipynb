{
 "cells": [
  {
   "cell_type": "code",
   "execution_count": 1,
   "metadata": {},
   "outputs": [
    {
     "name": "stderr",
     "output_type": "stream",
     "text": [
      "\u001b[32m\u001b[1m  Activating\u001b[22m\u001b[39m project at `~/Desktop/Project BAC/BAC project/libs`\n",
      "┌ Warning: MPI Implementation is not CUDA Aware.\n",
      "└ @ FluxMPI /home/molloi-lab/.julia/packages/FluxMPI/OM5f6/src/FluxMPI.jl:28\n",
      "Gtk-Message: 20:18:39.433: Failed to load module \"canberra-gtk-module\"\n",
      "Gtk-Message: 20:18:39.434: Failed to load module \"canberra-gtk-module\"\n"
     ]
    },
    {
     "data": {
      "text/plain": [
       "\"/media/molloi-lab/2TB2/BAC ver3/subset2\""
      ]
     },
     "metadata": {},
     "output_type": "display_data"
    }
   ],
   "source": [
    "using Pkg\n",
    "Pkg.activate(\"/home/molloi-lab/Desktop/Project BAC/BAC project/libs/\")\n",
    "using Lux, Random, NNlib, Zygote, LuxCUDA, CUDA, FluxMPI, JLD2, DICOM\n",
    "using Images\n",
    "using Gtk\n",
    "using Images\n",
    "using MLUtils\n",
    "using Optimisers\n",
    "using ImageMorphology, ChainRulesCore, Statistics, CSV, DataFrames, Dates, imageToolBox\n",
    "using XLSX, ImageView\n",
    "full_data_dir  = \"/media/molloi-lab/2TB/BAC/Clean_Dataset_full\"\n",
    "output_data_dir = \"/media/molloi-lab/2TB2/BAC ver3/subset2\""
   ]
  },
  {
   "cell_type": "code",
   "execution_count": 5,
   "metadata": {},
   "outputs": [
    {
     "name": "stdout",
     "output_type": "stream",
     "text": [
      "1: 160\n",
      "2: 32\n",
      "3: 32\n",
      "4: 32\n",
      "5: 23\n",
      "6: 10\n",
      "Train Total = 289\n",
      "\n",
      "1: 40\n",
      "2: 8\n",
      "3: 8\n",
      "4: 8\n",
      "5: 8\n",
      "6: 8\n",
      "Test Total = 80\n"
     ]
    }
   ],
   "source": [
    "@load \"JLD2s/train_buckets.jld2\" train_buckets\n",
    "@load \"JLD2s/test_buckets.jld2\" test_buckets\n",
    "\n",
    "ct = 0 \n",
    "for i = 1 : 6\n",
    "    curr = size(unique(train_buckets[i]))[1]\n",
    "    ct += curr\n",
    "    println(\"$i: $curr\")\n",
    "end\n",
    "println(\"Train Total = $ct\\n\")\n",
    "\n",
    "ct = 0 \n",
    "for i = 1 : 6\n",
    "    curr = size(unique(test_buckets[i]))[1]\n",
    "    ct += curr\n",
    "    println(\"$i: $curr\")\n",
    "end\n",
    "println(\"Test Total = $ct\")"
   ]
  },
  {
   "cell_type": "code",
   "execution_count": 10,
   "metadata": {},
   "outputs": [
    {
     "data": {
      "text/plain": [
       "create_dl (generic function with 1 method)"
      ]
     },
     "metadata": {},
     "output_type": "display_data"
    }
   ],
   "source": [
    "function img_ct(name, bucket)\n",
    "    paths = []\n",
    "    ct = 0\n",
    "    for i = 1 : 6\n",
    "        for SID in bucket[i]\n",
    "            dir1 = joinpath(output_data_dir, name, SID, \"cropped\")\n",
    "            for f in readdir(dir1)\n",
    "                f_name, f_ext = splitext(f)\n",
    "                if f_ext == \".jld2\"\n",
    "                    push!(paths, joinpath(dir1, f_name))\n",
    "                    ct += 1\n",
    "                end\n",
    "            end\n",
    "        end\n",
    "    end\n",
    "    return paths, ct\n",
    "end\n",
    "\n",
    "function distribute_idx(total, ct)\n",
    "    chunk_size = ceil(Int, total / ct)\n",
    "    starts = zeros(Int, ct)\n",
    "    ends = zeros(Int, ct)\n",
    "    for i = 1 : ct-1\n",
    "        starts[i] = (i-1)*chunk_size + 1\n",
    "        ends[i] = i*chunk_size\n",
    "    end\n",
    "    starts[end] = total - chunk_size + 1\n",
    "    ends[end] = total\n",
    "    return starts ,ends\n",
    "end\n",
    "\n",
    "function create_dl(name, bucket)\n",
    "    paths, ct = img_ct(name, bucket)\n",
    "    image_container = Array{Any}(undef, ct)\n",
    "    gt_container = Array{Any}(undef, ct)\n",
    "    # @Threads.threads for i = 1 : ct\n",
    "    for i = 1 : ct\n",
    "        path = paths[i]\n",
    "        # image\n",
    "        @load path*\".jld2\" img_cropped\n",
    "        x, y = size(img_cropped)\n",
    "        image_container[i] = reshape(img_cropped, x, y, 1, 1)\n",
    "\n",
    "        # gt \n",
    "        gt = Float32.(Images.load(path*\".png\"))\n",
    "        gt_container[i] = round.(reshape(gt, x, y, 1, 1))\n",
    "    end\n",
    "\n",
    "    temp_prem = randperm(ct)\n",
    "    paths = paths[temp_prem]\n",
    "    image_container = image_container[temp_prem]\n",
    "    gt_container = gt_container[temp_prem]\n",
    "\n",
    "    starts, ends = distribute_idx(ct, 4)\n",
    "    @Threads.threads for j = 1 : 4\n",
    "        my_data_loader = []\n",
    "        @save \"JLD2s/$(name)_dl_paths_$j.jld2\" paths=paths[starts[j] : ends[j]] \n",
    "        for i = starts[j] : ends[j]\n",
    "            push!(my_data_loader, (image_container[i], gt_container[i]))\n",
    "        end\n",
    "        @save \"JLD2s/$(name)_loader_$j.jld2\" data_loader = my_data_loader\n",
    "    end\n",
    "end"
   ]
  },
  {
   "cell_type": "code",
   "execution_count": 11,
   "metadata": {},
   "outputs": [],
   "source": [
    "create_dl(\"train\", train_buckets)"
   ]
  },
  {
   "cell_type": "code",
   "execution_count": 12,
   "metadata": {},
   "outputs": [],
   "source": [
    "create_dl(\"test\", test_buckets)"
   ]
  }
 ],
 "metadata": {
  "kernelspec": {
   "display_name": "Julia 1.9.2",
   "language": "julia",
   "name": "julia-1.9"
  },
  "language_info": {
   "file_extension": ".jl",
   "mimetype": "application/julia",
   "name": "julia",
   "version": "1.9.2"
  },
  "orig_nbformat": 4
 },
 "nbformat": 4,
 "nbformat_minor": 2
}
