{
 "cells": [
  {
   "cell_type": "code",
   "execution_count": 1,
   "metadata": {},
   "outputs": [],
   "source": [
    "import cv2\n",
    "import imageio.v3 as iio\n",
    "import numpy as np\n",
    "import read_roi \n",
    "from read_roi import read_roi_file\n",
    "import os\n",
    "import matplotlib.pyplot as plt\n",
    "from matplotlib.path import Path\n",
    "from matplotlib.patches import PathPatch\n",
    "from shapely.geometry import *\n",
    "import concurrent.futures"
   ]
  },
  {
   "cell_type": "code",
   "execution_count": 2,
   "metadata": {},
   "outputs": [],
   "source": [
    "data_dir = \"/media/molloi-lab/2TB/BAC/Clean_Dataset_full\""
   ]
  },
  {
   "cell_type": "code",
   "execution_count": 119,
   "metadata": {},
   "outputs": [
    {
     "data": {
      "text/plain": [
       "['/media/molloi-lab/2TB/BAC/Clean_Dataset_full/SID-103959']"
      ]
     },
     "execution_count": 119,
     "metadata": {},
     "output_type": "execute_result"
    }
   ],
   "source": [
    "# data_list = [\"103669\", \"103059\", \"103959\", \"106466\", \"109462\", \"112826\", \"120691\", \"134480\"]\n",
    "data_list = [\"103959\"]\n",
    "for i in range(len(data_list)):\n",
    "    data_list[i] = data_dir + \"/SID-\" + data_list[i]\n",
    "data_list"
   ]
  },
  {
   "attachments": {},
   "cell_type": "markdown",
   "metadata": {},
   "source": [
    "<!-- Files that need to be double-check:\n",
    "    C:\\BAC_dataset\\collected_dataset_for_ML\\train\\label\\SID-101237\\1.2.840.113681.2216859912.974.3569244225.82.roi  \n",
    "    C:\\BAC_dataset\\collected_dataset_for_ML\\train\\label\\SID-102318\\1.2.840.113681.2230563618.924.3633869514.120.roi  \n",
    "    C:\\BAC_dataset\\collected_dataset_for_ML\\train\\label\\SID-102318\\1.2.840.113681.2230563618.924.3633869514.124.roi  \n",
    "    C:\\BAC_dataset\\collected_dataset_for_ML\\train\\label\\SID-102442\\1.2.840.113681.2230563618.1412.3560865020.102.roi  \n",
    "    C:\\BAC_dataset\\collected_dataset_for_ML\\train\\label\\SID-104835\\1.2.840.113681.2229463144.937.3560426696.121.roi  \n",
    "    C:\\BAC_dataset\\collected_dataset_for_ML\\train\\label\\SID-104902\\1.2.840.113619.2.255.273315310659.2732131022111926.149.roi  \n",
    "    C:\\BAC_dataset\\collected_dataset_for_ML\\train\\label\\SID-105834\\1.2.840.113681.2230565808.1039.3564316702.109.roi  \n",
    "    C:\\BAC_dataset\\collected_dataset_for_ML\\train\\label\\SID-105834\\1.2.840.113681.2230565808.1039.3564316702.113.roi  \n",
    "    C:\\BAC_dataset\\collected_dataset_for_ML\\train\\label\\SID-106494\\1.2.840.113681.2229444882.954.3632752492.113.roi  \n",
    "    C:\\BAC_dataset\\collected_dataset_for_ML\\train\\label\\SID-106494\\1.2.840.113681.2229444882.954.3632752492.117.roi  \n",
    "    C:\\BAC_dataset\\collected_dataset_for_ML\\train\\label\\SID-107720\\1.2.840.113681.2230563618.920.3573734591.199.roi  \n",
    "    C:\\BAC_dataset\\collected_dataset_for_ML\\train\\label\\SID-107720\\1.2.840.113681.2230563618.920.3573734591.201.roi  \n",
    "    C:\\BAC_dataset\\collected_dataset_for_ML\\train\\label\\SID-108396\\1.2.840.113681.2230565084.928.3546255633.58.roi  \n",
    "    C:\\BAC_dataset\\collected_dataset_for_ML\\train\\label\\SID-108747\\1.2.840.113619.2.66.2211293102.1691130530110201.149.roi  \n",
    "    C:\\BAC_dataset\\collected_dataset_for_ML\\train\\label\\SID-109826\\1.2.840.113619.2.255.207924715888.2421130717172050.505.roi  \n",
    "    C:\\BAC_dataset\\collected_dataset_for_ML\\train\\label\\SID-110502\\1.2.840.113619.2.255.207924715888.2163130701110032.249.roi  \n",
    "    C:\\BAC_dataset\\collected_dataset_for_ML\\train\\label\\SID-110751\\1.2.840.113619.2.255.207924715888.2700130722105839.205.roi  \n",
    "    C:\\BAC_dataset\\collected_dataset_for_ML\\train\\label\\SID-110852\\1.2.840.113619.2.255.207924750210.2991130722104520.125.roi  \n",
    "    C:\\BAC_dataset\\collected_dataset_for_ML\\train\\label\\SID-112361\\1.2.840.113681.2230565808.948.3553858125.196.roi  \n",
    "    C:\\BAC_dataset\\collected_dataset_for_ML\\train\\label\\SID-112361\\1.2.840.113681.2230565808.948.3553858125.198.roi    \n",
    "    C:\\BAC_dataset\\collected_dataset_for_ML\\train\\label\\SID-112361\\1.2.840.113681.2230565808.948.3553858125.200.roi  \n",
    "    C:\\BAC_dataset\\collected_dataset_for_ML\\train\\label\\SID-112361\\1.2.840.113681.2230565808.948.3553858125.202.roi    \n",
    "    C:\\BAC_dataset\\collected_dataset_for_ML\\train\\label\\SID-112723\\1.2.840.113619.2.255.273316596199.3153130827141454.277.roi  \n",
    "    C:\\BAC_dataset\\collected_dataset_for_ML\\train\\label\\SID-112732\\1.2.840.113681.2230565084.940.3554981006.445.roi  \n",
    "    C:\\BAC_dataset\\collected_dataset_for_ML\\train\\label\\SID-112732\\1.2.840.113681.2230565084.940.3554981006.447.roi   -->"
   ]
  },
  {
   "cell_type": "code",
   "execution_count": 141,
   "metadata": {},
   "outputs": [],
   "source": [
    "def sort_list(list1, list2):\n",
    "    zipped_pairs = zip(list2, list1)\n",
    "    z = [x for _, x in sorted(zipped_pairs)]\n",
    "    return z\n",
    "\n",
    "def main(curr_dir):\n",
    "    for foldername, subfolders, filenames in os.walk(curr_dir):\n",
    "        for filename in filenames:\n",
    "            if filename.endswith(\"roi\"):\n",
    "                UID = os.path.splitext(filename)[0]\n",
    "                png_file_name = UID + \".png\"\n",
    "                # print(png_file_name)\n",
    "                png_path = os.path.join(foldername, png_file_name)\n",
    "                roi_path = os.path.join(foldername, filename)\n",
    "                if not os.path.isfile(png_path):\n",
    "                    print(\"Not found: \"+png_path)\n",
    "                else:\n",
    "                    # read png\n",
    "                    lbl = iio.imread(png_path)\n",
    "                    lbl = np.zeros(lbl.shape)\n",
    "                    # read roi\n",
    "                    roi = read_roi_file(roi_path)[UID]\n",
    "                    if \"paths\" in roi.keys():\n",
    "                        # read \"paths\"\n",
    "                        paths = roi[\"paths\"]\n",
    "\n",
    "                        prev_polys = []\n",
    "                        for ps in paths:\n",
    "                            pts = np.array(ps, np.int32)\n",
    "\n",
    "\n",
    "                            # prev_pt = pts[len(pts)-1]\n",
    "                            # for (i,pt) in enumerate(pts):\n",
    "                            #     cv2.line(lbl, prev_pt, pt, 50+205*i/len(pts), 2) \n",
    "                            #     prev_pt = pt\n",
    "\n",
    "                            cv2.fillPoly(lbl, [pts], 255)\n",
    "                            curr_poly = Polygon(ps)\n",
    "                            curr_area = curr_poly.area\n",
    "                            for (i, prev_poly) in enumerate(prev_polys):\n",
    "                                if prev_poly.intersects(curr_poly):\n",
    "                                    prev_area = prev_poly.area\n",
    "                                    common_area = prev_poly.intersection(curr_poly).area\n",
    "                                    if common_area == prev_area:\n",
    "                                        prev_pts = np.array(prev_poly.exterior.coords, np.int32)\n",
    "                                        cv2.fillPoly(lbl, [prev_pts], 0)\n",
    "                                    if common_area == curr_area:\n",
    "                                        cv2.fillPoly(lbl, [pts], 0)\n",
    "                                        break\n",
    "                            prev_polys.append(curr_poly)\n",
    "                        cv2.imwrite(png_path, lbl)\n",
    "                    else:\n",
    "                        # read \"x\" and \"y\"\n",
    "                        x = roi[\"x\"]\n",
    "                        y = roi[\"y\"]\n",
    "                        pts = np.array(list(zip(x, y)), np.int32)\n",
    "                        cv2.fillPoly(lbl, [pts], 255) # 255 stands for white color\n",
    "                        cv2.imwrite(png_path, lbl)\n",
    "\n",
    "def process_chunk(chunk):\n",
    "    for directory in chunk:\n",
    "        main(directory)\n",
    "\n",
    "def split_list_into_chunks(lst, chunk_size):\n",
    "    for i in range(0, len(lst), chunk_size):\n",
    "        yield lst[i:i + chunk_size]\n"
   ]
  },
  {
   "cell_type": "code",
   "execution_count": 142,
   "metadata": {},
   "outputs": [],
   "source": [
    "SIDs = os.listdir(data_dir)\n",
    "directories = []\n",
    "for sid in SIDs:\n",
    "    directories.append(data_dir + \"/\" + sid)\n",
    "\n",
    "num_threads = 64\n",
    "\n",
    "chunk_size = len(directories) // num_threads\n",
    "directory_chunks = list(split_list_into_chunks(directories, chunk_size))\n",
    "\n",
    "with concurrent.futures.ThreadPoolExecutor(max_workers=num_threads) as executor:\n",
    "    # Process each chunk concurrently\n",
    "    executor.map(process_chunk, directory_chunks)"
   ]
  },
  {
   "cell_type": "code",
   "execution_count": null,
   "metadata": {},
   "outputs": [],
   "source": []
  }
 ],
 "metadata": {
  "kernelspec": {
   "display_name": "base",
   "language": "python",
   "name": "python3"
  },
  "language_info": {
   "codemirror_mode": {
    "name": "ipython",
    "version": 3
   },
   "file_extension": ".py",
   "mimetype": "text/x-python",
   "name": "python",
   "nbconvert_exporter": "python",
   "pygments_lexer": "ipython3",
   "version": "3.10.12"
  },
  "orig_nbformat": 4
 },
 "nbformat": 4,
 "nbformat_minor": 2
}
