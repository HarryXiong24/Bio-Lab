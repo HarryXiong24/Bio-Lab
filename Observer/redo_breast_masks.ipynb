{
 "cells": [
  {
   "cell_type": "code",
   "execution_count": 1,
   "metadata": {},
   "outputs": [
    {
     "name": "stderr",
     "output_type": "stream",
     "text": [
      "\u001b[32m\u001b[1m  Activating\u001b[22m\u001b[39m project at `~/Code/Lab/Observer/utils`\n",
      "\u001b[32m\u001b[1m  Activating\u001b[22m\u001b[39m new project at `~/Code/Lab/Observer`\n",
      "\u001b[32m\u001b[1m  No Changes\u001b[22m\u001b[39m to `~/Code/Lab/Observer/Project.toml`\n",
      "\u001b[32m\u001b[1m  No Changes\u001b[22m\u001b[39m to `~/Code/Lab/Observer/Manifest.toml`\n"
     ]
    },
    {
     "data": {
      "text/plain": [
       "\"/Users/harryxiong24/Code/Lab/Observer/dataset/inter-observer/50_Sohrab_Fati/output\""
      ]
     },
     "metadata": {},
     "output_type": "display_data"
    }
   ],
   "source": [
    "using Pkg\n",
    "Pkg.activate(\".\")\n",
    "using Lux, Random, NNlib, JLD2, DICOM\n",
    "using Images\n",
    "using ImageMorphology, Statistics, Dates, imageToolBox\n",
    "full_data_dir = \"/Users/harryxiong24/Code/Lab/Observer/dataset/inter-observer/50_Sohrab_Fati/output\""
   ]
  },
  {
   "cell_type": "code",
   "execution_count": 2,
   "metadata": {},
   "outputs": [
    {
     "data": {
      "text/plain": [
       "keep_largest_component (generic function with 1 method)"
      ]
     },
     "metadata": {},
     "output_type": "display_data"
    }
   ],
   "source": [
    "function keep_largest_component(img; factor=10)\n",
    "    # resize image\n",
    "    s = size(img)\n",
    "    s_ = round.(Int, s ./ factor)\n",
    "    img_ = round.(imresize(img, s_))\n",
    "\n",
    "    # Label connected components\n",
    "    labels = label_components(img_)\n",
    "\n",
    "    # Count the number of pixels in each component\n",
    "    component_sizes = [sum(labels .== i) for i in 1:maximum(labels)]\n",
    "\n",
    "    # Find the label of the largest component\n",
    "    largest_label = argmax(component_sizes)\n",
    "\n",
    "    # Return a binary image with only the largest component\n",
    "    img_ = labels .== largest_label\n",
    "\n",
    "    # resize image\n",
    "    img_ = round.(imresize(img_, s))\n",
    "\n",
    "    return img_\n",
    "end"
   ]
  },
  {
   "cell_type": "code",
   "execution_count": 3,
   "metadata": {},
   "outputs": [],
   "source": []
  },
  {
   "cell_type": "code",
   "execution_count": 4,
   "metadata": {},
   "outputs": [],
   "source": [
    "threshold = 0.8\n",
    "SIDs = readdir(full_data_dir)[2:end]\n",
    "\n",
    "Threads.@threads for i = size(SIDs)[1]:-1:1\n",
    "    SID = SIDs[i]\n",
    "\n",
    "    dir1 = joinpath(full_data_dir, SID, \"source\")\n",
    "    for f in readdir(dir1)\n",
    "        f_name, f_ext = splitext(f)\n",
    "        if f_ext == \".dcm\"\n",
    "            dcm_path = joinpath(dir1, f)\n",
    "            breast_mask_path = joinpath(dir1, f_name * \".mask.png\")\n",
    "\n",
    "            dcm_data = dcm_parse(dcm_path)\n",
    "            img = Float32.(dcm_data[(0x7fe0, 0x0010)])\n",
    "            is_reversed = uppercase(dcm_data[(0x2050, 0x0020)]) == \"INVERSE\"\n",
    "            min_, max_ = extrema(img)\n",
    "            if min_ != 0\n",
    "                img = (img .- min_) ./ (max_ - min_)\n",
    "            else\n",
    "                img = img ./ max_\n",
    "            end\n",
    "            if is_reversed\n",
    "                img = 1.0 .- img\n",
    "                img = Float32.(img .> threshold)\n",
    "            else\n",
    "                img = Float32.(img .> (1 - threshold))\n",
    "            end\n",
    "            img = keep_largest_component(img; factor=10)\n",
    "            # @info breast_mask_path\n",
    "            save(breast_mask_path, Gray.(img))\n",
    "            # break\n",
    "        end\n",
    "        # break\n",
    "    end\n",
    "    GC.gc(true)\n",
    "    # break\n",
    "end\n",
    "GC.gc(true)"
   ]
  },
  {
   "cell_type": "code",
   "execution_count": 9,
   "metadata": {},
   "outputs": [],
   "source": []
  },
  {
   "cell_type": "code",
   "execution_count": 4,
   "metadata": {},
   "outputs": [],
   "source": []
  }
 ],
 "metadata": {
  "kernelspec": {
   "display_name": "Julia 1.9.3",
   "language": "julia",
   "name": "julia-1.9"
  },
  "language_info": {
   "file_extension": ".jl",
   "mimetype": "application/julia",
   "name": "julia",
   "version": "1.9.3"
  },
  "orig_nbformat": 4
 },
 "nbformat": 4,
 "nbformat_minor": 2
}
